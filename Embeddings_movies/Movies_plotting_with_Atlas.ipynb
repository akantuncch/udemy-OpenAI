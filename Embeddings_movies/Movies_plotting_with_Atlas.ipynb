{
 "cells": [
  {
   "cell_type": "code",
   "execution_count": 1,
   "metadata": {},
   "outputs": [],
   "source": [
    "import openai\n",
    "from dotenv import dotenv_values\n",
    "config = dotenv_values('.env')\n",
    "openai.api_key = config['OPENAI_API_KEY']"
   ]
  },
  {
   "cell_type": "code",
   "execution_count": 2,
   "metadata": {},
   "outputs": [],
   "source": [
    "import pandas as pd\n",
    "import numpy as np\n",
    "from tenacity import retry, wait_random_exponential, stop_after_attempt\n",
    "import pickle\n",
    "import tiktoken"
   ]
  },
  {
   "cell_type": "code",
   "execution_count": 3,
   "metadata": {},
   "outputs": [],
   "source": [
    "dataset_path = \"./movie_plots.csv\"\n",
    "df = pd.read_csv(dataset_path)"
   ]
  },
  {
   "cell_type": "code",
   "execution_count": 4,
   "metadata": {},
   "outputs": [],
   "source": [
    "movies = df[df[\"Origin/Ethnicity\"] == \"American\"].sort_values(\"Release Year\", ascending=False).head(5000)"
   ]
  },
  {
   "cell_type": "code",
   "execution_count": 5,
   "metadata": {},
   "outputs": [],
   "source": [
    "movie_plots = movies[\"Plot\"].values"
   ]
  },
  {
   "cell_type": "code",
   "execution_count": 6,
   "metadata": {},
   "outputs": [],
   "source": [
    "enc = tiktoken.encoding_for_model(\"text-embedding-ada-002\")"
   ]
  },
  {
   "cell_type": "code",
   "execution_count": 7,
   "metadata": {},
   "outputs": [],
   "source": [
    "total_tokens = sum([len(enc.encode(plot)) for plot in movie_plots])"
   ]
  },
  {
   "cell_type": "code",
   "execution_count": 8,
   "metadata": {},
   "outputs": [
    {
     "name": "stdout",
     "output_type": "stream",
     "text": [
      "Estimated cost $1.45\n"
     ]
    }
   ],
   "source": [
    "total_tokens\n",
    "cost = total_tokens * (.0004 / 1000)\n",
    "print(f\"Estimated cost ${cost:.2f}\")"
   ]
  },
  {
   "cell_type": "code",
   "execution_count": 9,
   "metadata": {},
   "outputs": [],
   "source": [
    "@retry(wait=wait_random_exponential(min=1, max=20), stop=stop_after_attempt(6))\n",
    "def get_embedding(text, model=\"text-embedding-ada-002\"):\n",
    "\n",
    "    # replace newlines, which can negatively affect performance\n",
    "    text = text.replace(\"\\n\", \" \")\n",
    "\n",
    "    return openai.Embedding.create(input=text, model=model)[\"data\"][0][\"embedding\"]"
   ]
  },
  {
   "cell_type": "code",
   "execution_count": 10,
   "metadata": {},
   "outputs": [],
   "source": [
    "# establsih a cache of embeddings to avoid recomputing\n",
    "# cache is a dict of tuples (text, model) -> embedding saved as a pickle file\n",
    "\n",
    "# set path to embedding cache\n",
    "embedding_cache_path = \"movie_embeddings_demo.pkl\"\n",
    "\n",
    "# load the cache if it exists, and save a copy to disk\n",
    "try:\n",
    "    embedding_cache = pd.read_pickle(embedding_cache_path)\n",
    "except FileNotFoundError:\n",
    "    embedding_cache = {}\n",
    "with open(embedding_cache_path ,\"wb\") as embedding_cache_file:\n",
    "    pickle.dump(embedding_cache, embedding_cache_file)\n",
    "\n",
    "# define a function to retrieve embeddings from the cache if present, and otherwise request via the API\n",
    "def embeddings_from_string(\n",
    "        string,\n",
    "        model=\"text-embedding-ada-002\",\n",
    "        embedding_cache=embedding_cache\n",
    "):\n",
    "    \"\"\"Return embedding of a given a string, using a cache to avoid recomputing.\"\"\"\n",
    "    if (string, model) not in embedding_cache.keys():\n",
    "        embedding_cache[(string, model)] = get_embedding(string, model)\n",
    "        print(f\"GOT EMBEDDING FROM OPEN AI FOR {string[:20]}\")\n",
    "        with open(embedding_cache_path, \"wb\") as embedding_cache_file:\n",
    "            pickle.dump(embedding_cache, embedding_cache_file)\n",
    "    return embedding_cache[(string, model)]\n"
   ]
  },
  {
   "cell_type": "code",
   "execution_count": 11,
   "metadata": {},
   "outputs": [],
   "source": [
    "plot_embeddings = [embeddings_from_string(plot, model=\"text-embedding-ada-002\") for plot in movie_plots]"
   ]
  },
  {
   "cell_type": "code",
   "execution_count": 21,
   "metadata": {},
   "outputs": [],
   "source": [
    "data = movies[[\"Title\", \"Genre\"]].to_dict(\"records\")"
   ]
  },
  {
   "cell_type": "code",
   "execution_count": 12,
   "metadata": {},
   "outputs": [],
   "source": [
    "import sys\n",
    "# sys.path\n",
    "# import os \n",
    "# os.getcwd()\n",
    "# sys.path.append('/home/akant/Projects/udemy-OpenAI/Embeddings_movies/venv-Embeddings/bin/nomic')\n"
   ]
  },
  {
   "cell_type": "code",
   "execution_count": 13,
   "metadata": {},
   "outputs": [
    {
     "data": {
      "text/plain": [
       "['/home/akant/Projects/udemy-OpenAI/Embeddings_movies',\n",
       " '/home/akant/anaconda3/lib/python39.zip',\n",
       " '/home/akant/anaconda3/lib/python3.9',\n",
       " '/home/akant/anaconda3/lib/python3.9/lib-dynload',\n",
       " '',\n",
       " '/home/akant/anaconda3/lib/python3.9/site-packages']"
      ]
     },
     "execution_count": 13,
     "metadata": {},
     "output_type": "execute_result"
    }
   ],
   "source": [
    "sys.path"
   ]
  },
  {
   "cell_type": "code",
   "execution_count": 16,
   "metadata": {},
   "outputs": [
    {
     "name": "stdout",
     "output_type": "stream",
     "text": [
      "Collecting nomic\n",
      "  Using cached nomic-1.1.6-py3-none-any.whl\n",
      "Collecting rich\n",
      "  Using cached rich-13.3.5-py3-none-any.whl (238 kB)\n",
      "Collecting pyarrow\n",
      "  Using cached pyarrow-12.0.0-cp39-cp39-manylinux_2_17_x86_64.manylinux2014_x86_64.whl (39.0 MB)\n",
      "Requirement already satisfied: tqdm in /home/akant/anaconda3/lib/python3.9/site-packages (from nomic) (4.65.0)\n",
      "Requirement already satisfied: requests in /home/akant/anaconda3/lib/python3.9/site-packages (from nomic) (2.28.1)\n",
      "Collecting jsonlines\n",
      "  Using cached jsonlines-3.1.0-py3-none-any.whl (8.6 kB)\n",
      "Requirement already satisfied: click in /home/akant/anaconda3/lib/python3.9/site-packages (from nomic) (8.0.4)\n",
      "Collecting loguru\n",
      "  Using cached loguru-0.7.0-py3-none-any.whl (59 kB)\n",
      "Requirement already satisfied: numpy in /home/akant/anaconda3/lib/python3.9/site-packages (from nomic) (1.21.5)\n",
      "Collecting pydantic\n",
      "  Using cached pydantic-1.10.7-cp39-cp39-manylinux_2_17_x86_64.manylinux2014_x86_64.whl (3.2 MB)\n",
      "Collecting wonderwords\n",
      "  Using cached wonderwords-2.2.0-py3-none-any.whl (44 kB)\n",
      "Collecting cohere\n",
      "  Using cached cohere-4.4.1-py3-none-any.whl (32 kB)\n",
      "Collecting backoff<3.0,>=2.0\n",
      "  Using cached backoff-2.2.1-py3-none-any.whl (15 kB)\n",
      "Requirement already satisfied: aiohttp<4.0,>=3.0 in /home/akant/anaconda3/lib/python3.9/site-packages (from cohere->nomic) (3.8.3)\n",
      "Requirement already satisfied: certifi>=2017.4.17 in /home/akant/anaconda3/lib/python3.9/site-packages (from requests->nomic) (2022.12.7)\n",
      "Requirement already satisfied: idna<4,>=2.5 in /home/akant/anaconda3/lib/python3.9/site-packages (from requests->nomic) (3.4)\n",
      "Requirement already satisfied: charset-normalizer<3,>=2 in /home/akant/anaconda3/lib/python3.9/site-packages (from requests->nomic) (2.0.4)\n",
      "Requirement already satisfied: urllib3<1.27,>=1.21.1 in /home/akant/anaconda3/lib/python3.9/site-packages (from requests->nomic) (1.26.15)\n",
      "Requirement already satisfied: attrs>=19.2.0 in /home/akant/anaconda3/lib/python3.9/site-packages (from jsonlines->nomic) (22.1.0)\n",
      "Requirement already satisfied: typing-extensions>=4.2.0 in /home/akant/anaconda3/lib/python3.9/site-packages (from pydantic->nomic) (4.5.0)\n",
      "Collecting pygments<3.0.0,>=2.13.0\n",
      "  Using cached Pygments-2.15.1-py3-none-any.whl (1.1 MB)\n",
      "Collecting markdown-it-py<3.0.0,>=2.2.0\n",
      "  Using cached markdown_it_py-2.2.0-py3-none-any.whl (84 kB)\n",
      "Requirement already satisfied: yarl<2.0,>=1.0 in /home/akant/anaconda3/lib/python3.9/site-packages (from aiohttp<4.0,>=3.0->cohere->nomic) (1.8.1)\n",
      "Requirement already satisfied: async-timeout<5.0,>=4.0.0a3 in /home/akant/anaconda3/lib/python3.9/site-packages (from aiohttp<4.0,>=3.0->cohere->nomic) (4.0.2)\n",
      "Requirement already satisfied: frozenlist>=1.1.1 in /home/akant/anaconda3/lib/python3.9/site-packages (from aiohttp<4.0,>=3.0->cohere->nomic) (1.3.3)\n",
      "Requirement already satisfied: multidict<7.0,>=4.5 in /home/akant/anaconda3/lib/python3.9/site-packages (from aiohttp<4.0,>=3.0->cohere->nomic) (6.0.2)\n",
      "Requirement already satisfied: aiosignal>=1.1.2 in /home/akant/anaconda3/lib/python3.9/site-packages (from aiohttp<4.0,>=3.0->cohere->nomic) (1.3.1)\n",
      "Collecting mdurl~=0.1\n",
      "  Using cached mdurl-0.1.2-py3-none-any.whl (10.0 kB)\n",
      "Installing collected packages: wonderwords, pygments, pydantic, pyarrow, mdurl, loguru, jsonlines, backoff, markdown-it-py, rich, cohere, nomic\n",
      "  Attempting uninstall: pygments\n",
      "    Found existing installation: Pygments 2.11.2\n",
      "    Uninstalling Pygments-2.11.2:\n",
      "      Successfully uninstalled Pygments-2.11.2\n",
      "\u001b[31mERROR: pip's dependency resolver does not currently take into account all the packages that are installed. This behaviour is the source of the following dependency conflicts.\n",
      "spyder 5.1.5 requires pyqt5<5.13, which is not installed.\n",
      "spyder 5.1.5 requires pyqtwebengine<5.13, which is not installed.\u001b[0m\u001b[31m\n",
      "\u001b[0mSuccessfully installed backoff-2.2.1 cohere-4.4.1 jsonlines-3.1.0 loguru-0.7.0 markdown-it-py-2.2.0 mdurl-0.1.2 nomic-1.1.6 pyarrow-12.0.0 pydantic-1.10.7 pygments-2.15.1 rich-13.3.5 wonderwords-2.2.0\n",
      "Note: you may need to restart the kernel to use updated packages.\n"
     ]
    }
   ],
   "source": [
    "# pip install nomic\n"
   ]
  },
  {
   "cell_type": "code",
   "execution_count": 17,
   "metadata": {},
   "outputs": [],
   "source": [
    "from nomic import atlas"
   ]
  },
  {
   "cell_type": "code",
   "execution_count": 22,
   "metadata": {},
   "outputs": [
    {
     "name": "stderr",
     "output_type": "stream",
     "text": [
      "\u001b[32m2023-05-13 09:58:28.694\u001b[0m | \u001b[1mINFO    \u001b[0m | \u001b[36mnomic.project\u001b[0m:\u001b[36m_create_project\u001b[0m:\u001b[36m965\u001b[0m - \u001b[1mCreating project `finicky-leave` in organization `akantunc`\u001b[0m\n",
      "\u001b[32m2023-05-13 09:58:30.024\u001b[0m | \u001b[1mINFO    \u001b[0m | \u001b[36mnomic.atlas\u001b[0m:\u001b[36mmap_embeddings\u001b[0m:\u001b[36m100\u001b[0m - \u001b[1mUploading embeddings to Atlas.\u001b[0m\n",
      "4it [00:02,  1.38it/s]                       \n",
      "\u001b[32m2023-05-13 09:58:33.099\u001b[0m | \u001b[1mINFO    \u001b[0m | \u001b[36mnomic.project\u001b[0m:\u001b[36m_add_data\u001b[0m:\u001b[36m1577\u001b[0m - \u001b[1mUpload succeeded.\u001b[0m\n",
      "\u001b[32m2023-05-13 09:58:33.100\u001b[0m | \u001b[1mINFO    \u001b[0m | \u001b[36mnomic.atlas\u001b[0m:\u001b[36mmap_embeddings\u001b[0m:\u001b[36m119\u001b[0m - \u001b[1mEmbedding upload succeeded.\u001b[0m\n",
      "\u001b[32m2023-05-13 09:58:34.055\u001b[0m | \u001b[1mINFO    \u001b[0m | \u001b[36mnomic.project\u001b[0m:\u001b[36mcreate_index\u001b[0m:\u001b[36m1282\u001b[0m - \u001b[1mCreated map `finicky-leave` in project `finicky-leave`: https://atlas.nomic.ai/map/4fa3dfe6-77cf-42d2-9407-69f11ba0e50e/bc6a0779-3931-447f-83d7-6491797b54a6\u001b[0m\n",
      "\u001b[32m2023-05-13 09:58:34.056\u001b[0m | \u001b[1mINFO    \u001b[0m | \u001b[36mnomic.atlas\u001b[0m:\u001b[36mmap_embeddings\u001b[0m:\u001b[36m132\u001b[0m - \u001b[1mfinicky-leave: https://atlas.nomic.ai/map/4fa3dfe6-77cf-42d2-9407-69f11ba0e50e/bc6a0779-3931-447f-83d7-6491797b54a6\u001b[0m\n"
     ]
    }
   ],
   "source": [
    "project = atlas.map_embeddings(\n",
    "    embeddings=np.array(plot_embeddings),\n",
    "    data=data\n",
    ")"
   ]
  }
 ],
 "metadata": {
  "kernelspec": {
   "display_name": "base",
   "language": "python",
   "name": "python3"
  },
  "language_info": {
   "codemirror_mode": {
    "name": "ipython",
    "version": 3
   },
   "file_extension": ".py",
   "mimetype": "text/x-python",
   "name": "python",
   "nbconvert_exporter": "python",
   "pygments_lexer": "ipython3",
   "version": "3.9.12"
  },
  "orig_nbformat": 4
 },
 "nbformat": 4,
 "nbformat_minor": 2
}
