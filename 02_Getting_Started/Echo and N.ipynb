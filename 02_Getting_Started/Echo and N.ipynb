{
 "cells": [
  {
   "cell_type": "code",
   "execution_count": 1,
   "id": "39d7ac80",
   "metadata": {},
   "outputs": [],
   "source": [
    "import openai"
   ]
  },
  {
   "cell_type": "code",
   "execution_count": 2,
   "id": "96de38cc",
   "metadata": {},
   "outputs": [],
   "source": [
    "from dotenv import dotenv_values"
   ]
  },
  {
   "cell_type": "code",
   "execution_count": 3,
   "id": "3b630436",
   "metadata": {},
   "outputs": [],
   "source": [
    "config = dotenv_values(\".env\")"
   ]
  },
  {
   "cell_type": "code",
   "execution_count": 4,
   "id": "b3cb65c7",
   "metadata": {},
   "outputs": [],
   "source": [
    "openai.api_key = config[\"OPENAI_API_KEY\"]"
   ]
  },
  {
   "cell_type": "code",
   "execution_count": 5,
   "id": "88b817b3",
   "metadata": {},
   "outputs": [
    {
     "data": {
      "text/plain": [
       "<OpenAIObject text_completion id=cmpl-79cJMj3Wh7A5PjxkxFETU8R2ithus at 0x7f5dda70af40> JSON: {\n",
       "  \"choices\": [\n",
       "    {\n",
       "      \"finish_reason\": \"length\",\n",
       "      \"index\": 0,\n",
       "      \"logprobs\": null,\n",
       "      \"text\": \"\\n\\nMy heart is so fragile\\nIt can break in an instant\\nI need someone there\\nTo help pick up the pieces\\nBuilding it back up\\nWill take some time and effort\\nBut when I'm finished\\nI'll be stronger than ever\\n\\nMy soul can be broken\\nShattered into a million parts\\nBut I know that I can rise\\nAnd put it back together with all my heart\\nThough I may stumble and fall\\nRecovering will be hard\\nI must\"\n",
       "    },\n",
       "    {\n",
       "      \"finish_reason\": \"length\",\n",
       "      \"index\": 1,\n",
       "      \"logprobs\": null,\n",
       "      \"text\": \"\\n\\nA winter night; a dark and cold one\\nA sadness lurking all around\\nStruggling to put up an ailing fight\\nA soul that just seems galwned and bound\\n\\nIn comes a ray of hope disguised as a night\\nA freezing night full of hidden curiosities\\nA chill in the air that brings forth flights of life\\nA shiver of anticipation for whats ahead a dizzying\\n\\nAs the stars slowly appear in sight\\nThey slowly melt away\"\n",
       "    },\n",
       "    {\n",
       "      \"finish_reason\": \"length\",\n",
       "      \"index\": 2,\n",
       "      \"logprobs\": null,\n",
       "      \"text\": \"\\n\\nA poem that is sad yet true\\nA not so story of me and you\\n\\nIt was a love that never grew \\nA tale of a broken rendez-vous \\n\\nWe wanted so much to make it right \\nBut our dreams couldn't take flight\\n\\nOur emotions just wouldn't agree \\nOur hearts weren't meant to be\\n\\nOur paths now head in opposite directions\\nMy tears flow like torrential afflections\\n\\nMy heart shatters as\"\n",
       "    }\n",
       "  ],\n",
       "  \"created\": 1682526576,\n",
       "  \"id\": \"cmpl-79cJMj3Wh7A5PjxkxFETU8R2ithus\",\n",
       "  \"model\": \"text-davinci-003\",\n",
       "  \"object\": \"text_completion\",\n",
       "  \"usage\": {\n",
       "    \"completion_tokens\": 300,\n",
       "    \"prompt_tokens\": 4,\n",
       "    \"total_tokens\": 304\n",
       "  }\n",
       "}"
      ]
     },
     "execution_count": 5,
     "metadata": {},
     "output_type": "execute_result"
    }
   ],
   "source": [
    "openai.Completion.create(\n",
    "    model=\"text-davinci-003\",\n",
    "    prompt=\"write me a poem\",\n",
    "    max_tokens=100,\n",
    "    n=3\n",
    ")"
   ]
  },
  {
   "cell_type": "code",
   "execution_count": 6,
   "id": "644044f3",
   "metadata": {},
   "outputs": [
    {
     "data": {
      "text/plain": [
       "<OpenAIObject text_completion id=cmpl-79cNojJleU9f7vsOVxdR6pjoj3qun at 0x7f5e13669090> JSON: {\n",
       "  \"choices\": [\n",
       "    {\n",
       "      \"finish_reason\": \"stop\",\n",
       "      \"index\": 0,\n",
       "      \"logprobs\": null,\n",
       "      \"text\": \"Q: What is the tallest building in the world?\\n\\nThe tallest building in the world is the Burj Khalifa in Dubai, United Arab Emirates. It stands 828 meters (2,717 feet) tall and was opened in January 2010.\"\n",
       "    }\n",
       "  ],\n",
       "  \"created\": 1682526852,\n",
       "  \"id\": \"cmpl-79cNojJleU9f7vsOVxdR6pjoj3qun\",\n",
       "  \"model\": \"text-davinci-003\",\n",
       "  \"object\": \"text_completion\",\n",
       "  \"usage\": {\n",
       "    \"completion_tokens\": 41,\n",
       "    \"prompt_tokens\": 11,\n",
       "    \"total_tokens\": 52\n",
       "  }\n",
       "}"
      ]
     },
     "execution_count": 6,
     "metadata": {},
     "output_type": "execute_result"
    }
   ],
   "source": [
    "openai.Completion.create(\n",
    "    model=\"text-davinci-003\",\n",
    "    prompt=\"Q: What is the tallest building in the world?\",\n",
    "    max_tokens=100,\n",
    "    # Includes original prompt\n",
    "    echo=True\n",
    ")"
   ]
  },
  {
   "cell_type": "code",
   "execution_count": 19,
   "id": "9a4fc8b0",
   "metadata": {},
   "outputs": [
    {
     "data": {
      "text/plain": [
       "<OpenAIObject text_completion id=cmpl-6v8sH7bOi2GM3uY502UHhj7Jn8YuZ at 0x7fc3a8b09b80> JSON: {\n",
       "  \"choices\": [\n",
       "    {\n",
       "      \"finish_reason\": \"stop\",\n",
       "      \"index\": 0,\n",
       "      \"logprobs\": null,\n",
       "      \"text\": \"\\n\\nGreen.\"\n",
       "    }\n",
       "  ],\n",
       "  \"created\": 1679076829,\n",
       "  \"id\": \"cmpl-6v8sH7bOi2GM3uY502UHhj7Jn8YuZ\",\n",
       "  \"model\": \"text-davinci-003\",\n",
       "  \"object\": \"text_completion\",\n",
       "  \"usage\": {\n",
       "    \"completion_tokens\": 4,\n",
       "    \"prompt_tokens\": 15,\n",
       "    \"total_tokens\": 19\n",
       "  }\n",
       "}"
      ]
     },
     "execution_count": 19,
     "metadata": {},
     "output_type": "execute_result"
    }
   ],
   "source": [
    "openai.Completion.create(\n",
    "    model=\"text-davinci-003\",\n",
    "    prompt=\"In a single word, what is the color of a pickle? \",\n",
    "    max_tokens=100,\n",
    "#     echo=True\n",
    ")"
   ]
  },
  {
   "cell_type": "code",
   "execution_count": 6,
   "id": "04bdf334",
   "metadata": {},
   "outputs": [
    {
     "data": {
      "text/plain": [
       "<OpenAIObject text_completion id=cmpl-75LpG5nRAmGYyg6IW1hWYg1kltG3S at 0x7fd938686220> JSON: {\n",
       "  \"choices\": [\n",
       "    {\n",
       "      \"finish_reason\": \"stop\",\n",
       "      \"index\": 0,\n",
       "      \"logprobs\": null,\n",
       "      \"text\": \"In a single word, what is the color of a pickle? \\n\\nGreen.\"\n",
       "    }\n",
       "  ],\n",
       "  \"created\": 1681509894,\n",
       "  \"id\": \"cmpl-75LpG5nRAmGYyg6IW1hWYg1kltG3S\",\n",
       "  \"model\": \"text-davinci-003\",\n",
       "  \"object\": \"text_completion\",\n",
       "  \"usage\": {\n",
       "    \"completion_tokens\": 4,\n",
       "    \"prompt_tokens\": 15,\n",
       "    \"total_tokens\": 19\n",
       "  }\n",
       "}"
      ]
     },
     "execution_count": 6,
     "metadata": {},
     "output_type": "execute_result"
    }
   ],
   "source": [
    "openai.Completion.create(\n",
    "    model=\"text-davinci-003\",\n",
    "    prompt=\"In a single word, what is the color of a pickle? \",\n",
    "    max_tokens=100,\n",
    "    echo=True\n",
    ")"
   ]
  },
  {
   "cell_type": "code",
   "execution_count": null,
   "id": "3ea8fde2",
   "metadata": {},
   "outputs": [],
   "source": []
  }
 ],
 "metadata": {
  "kernelspec": {
   "display_name": "Python 3",
   "language": "python",
   "name": "python3"
  },
  "language_info": {
   "codemirror_mode": {
    "name": "ipython",
    "version": 3
   },
   "file_extension": ".py",
   "mimetype": "text/x-python",
   "name": "python",
   "nbconvert_exporter": "python",
   "pygments_lexer": "ipython3",
   "version": "3.9.12"
  }
 },
 "nbformat": 4,
 "nbformat_minor": 5
}
